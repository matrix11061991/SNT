{
 "cells": [
  {
   "cell_type": "markdown",
   "id": "84d752ce",
   "metadata": {
    "deletable": false,
    "editable": false,
    "scrolled": true
   },
   "source": [
    "<div class = \"alert alert-warning\" align=\"center\">\n",
    "    <center><h1>Lycée Peter Pan - SNT 2nde </h1></center>\n",
    "</div>"
   ]
  },
  {
   "cell_type": "markdown",
   "id": "9ee3f268",
   "metadata": {},
   "source": [
    "## Exercices sur les fonctions\n",
    "### Exo 1 - Formules mathématiques\n",
    "#### 1.1 Énoncé.\n",
    "Écrire une fonction cube qui retourne le cube de son argument.\n",
    "\n",
    "```python\n",
    "cube(2)\n",
    "8\n",
    "```"
   ]
  },
  {
   "cell_type": "code",
   "execution_count": null,
   "id": "ea44468c",
   "metadata": {},
   "outputs": [],
   "source": [
    "def cube(x):\n",
    "    return x**3"
   ]
  },
  {
   "cell_type": "markdown",
   "id": "152ec773",
   "metadata": {
    "deletable": false,
    "editable": false,
    "scrolled": true
   },
   "source": [
    "#### 1.2 Jeu de tests unitaires\n",
    "Votre fonction doit passer sans erreur le jeu de tests unitaires"
   ]
  },
  {
   "cell_type": "code",
   "execution_count": null,
   "id": "7abddbd0",
   "metadata": {
    "deletable": false,
    "editable": false,
    "scrolled": true
   },
   "outputs": [],
   "source": [
    "assert cube(2) == 8\n",
    "assert cube(0)== 0\n",
    "assert cube(-1)== -1"
   ]
  },
  {
   "cell_type": "markdown",
   "id": "15220fe6",
   "metadata": {
    "deletable": false,
    "editable": false
   },
   "source": [
    "### Exo 2 - Maximum de trois nombres\n",
    "#### 2.1 Énoncé.\n",
    "On veut __trouver le maximum de 3 nombres__. Pour cela, on va créer une fonction `maxi(x,y,z)`.\n",
    "\n",
    "Définir une fonction `maxi(x,y,z)` qui prend comme paramètre 3 entiers `x`,`y`,`z` et qui permet d’afficher le plus grand des trois nombres.\n",
    "\n",
    "\n",
    "\n",
    "Appeler cette fonction afin de vérifier le résultat :\n",
    "\n",
    "```python\n",
    "maxi(1,2,3)\n",
    "3\n",
    "```"
   ]
  },
  {
   "cell_type": "code",
   "execution_count": 17,
   "id": "27c39edf",
   "metadata": {},
   "outputs": [
    {
     "data": {
      "text/plain": [
       "1000"
      ]
     },
     "execution_count": 17,
     "metadata": {},
     "output_type": "execute_result"
    }
   ],
   "source": [
    "def maxi(x,y,z):\n",
    "    return max(x,max(y,z))\n",
    "maxi(1000,20,3)"
   ]
  },
  {
   "cell_type": "code",
   "execution_count": 19,
   "id": "c1f9fbe4",
   "metadata": {},
   "outputs": [
    {
     "data": {
      "text/plain": [
       "4"
      ]
     },
     "execution_count": 19,
     "metadata": {},
     "output_type": "execute_result"
    }
   ],
   "source": [
    "def grand(x,y):\n",
    "    return y if y>z else z\n",
    "grand(3,4)"
   ]
  },
  {
   "cell_type": "markdown",
   "id": "065ed90b",
   "metadata": {
    "deletable": false,
    "editable": false,
    "scrolled": true
   },
   "source": [
    "#### 1.2 Jeu de tests unitaires\n",
    "Votre fonction doit passer sans erreur le jeu de tests unitaires"
   ]
  },
  {
   "cell_type": "code",
   "execution_count": null,
   "id": "ea1b9258",
   "metadata": {
    "deletable": false,
    "editable": false
   },
   "outputs": [],
   "source": [
    "assert maxi(3,5,2) == 5\n",
    "assert maxi(-2,-1,0) == 0\n",
    "assert maxi(3,7,2) == 7"
   ]
  }
 ],
 "metadata": {
  "celltoolbar": "Format de la Cellule Texte Brut",
  "kernelspec": {
   "display_name": "Python 3 (ipykernel)",
   "language": "python",
   "name": "python3"
  },
  "language_info": {
   "codemirror_mode": {
    "name": "ipython",
    "version": 3
   },
   "file_extension": ".py",
   "mimetype": "text/x-python",
   "name": "python",
   "nbconvert_exporter": "python",
   "pygments_lexer": "ipython3",
   "version": "3.10.4"
  }
 },
 "nbformat": 4,
 "nbformat_minor": 5
}
